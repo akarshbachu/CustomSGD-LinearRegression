{
 "cells": [
  {
   "cell_type": "code",
   "execution_count": 40,
   "metadata": {},
   "outputs": [],
   "source": [
    "from sklearn.datasets import load_boston\n",
    "import numpy as np\n",
    "import random\n",
    "import pandas as pd\n",
    "import matplotlib.pyplot as plt\n",
    "import sklearn\n",
    "from sklearn.metrics import accuracy_score\n",
    "from sklearn.preprocessing import StandardScaler\n",
    "from sklearn.linear_model import LinearRegression\n",
    "from sklearn import metrics"
   ]
  },
  {
   "cell_type": "code",
   "execution_count": 41,
   "metadata": {},
   "outputs": [],
   "source": [
    "boston_data = load_boston()"
   ]
  },
  {
   "cell_type": "code",
   "execution_count": 42,
   "metadata": {},
   "outputs": [],
   "source": [
    "X = boston_data.data"
   ]
  },
  {
   "cell_type": "code",
   "execution_count": 43,
   "metadata": {},
   "outputs": [
    {
     "data": {
      "text/plain": [
       "506"
      ]
     },
     "execution_count": 43,
     "metadata": {},
     "output_type": "execute_result"
    }
   ],
   "source": [
    "len(X)"
   ]
  },
  {
   "cell_type": "code",
   "execution_count": 44,
   "metadata": {},
   "outputs": [
    {
     "data": {
      "text/plain": [
       "506"
      ]
     },
     "execution_count": 44,
     "metadata": {},
     "output_type": "execute_result"
    }
   ],
   "source": [
    "y = boston_data.target\n",
    "len(y)"
   ]
  },
  {
   "cell_type": "code",
   "execution_count": 56,
   "metadata": {},
   "outputs": [],
   "source": [
    "from sklearn.cross_validation import train_test_split\n",
    "x_train,x_test,y_train,y_test = train_test_split(X,y,test_size=0.33)"
   ]
  },
  {
   "cell_type": "markdown",
   "metadata": {},
   "source": [
    "### Standardization"
   ]
  },
  {
   "cell_type": "code",
   "execution_count": 57,
   "metadata": {},
   "outputs": [],
   "source": [
    "std = StandardScaler()\n",
    "x_train = std.fit_transform(x_train)\n",
    "x_test = std.fit_transform(x_test)"
   ]
  },
  {
   "cell_type": "code",
   "execution_count": 84,
   "metadata": {},
   "outputs": [],
   "source": [
    "def linearRegressionGD(X,y,w = np.zeros(13),b = 0,iterations=5000,learning_rate=0.1,epsilon_val=0.004):\n",
    "    \"\"\"\n",
    "        Linear Regression Using Gradient Descent Optimization\n",
    "\n",
    "        Parameters\n",
    "        ----------\n",
    "        X : numpy array or sparse matrix of shape [n_samples,n_features]\n",
    "            Training data\n",
    "\n",
    "        y : numpy array of shape [n_samples, n_targets]\n",
    "            Target values\n",
    "\n",
    "        w:  Weight Vector first initializad with 0's\n",
    "        \n",
    "        \n",
    "        b:  y-intercept\n",
    "        \n",
    "        \n",
    "        iterations: no.of iterations\n",
    "        \n",
    "        epsilon_val: Termination Criteria\n",
    "\n",
    "        Returns\n",
    "        -------\n",
    "        w,b,cost or MSE\n",
    "        \"\"\"\n",
    "    n = float(len(y))\n",
    "    costs = [];\n",
    "    decay_rate = 0.0001\n",
    "    eta=learning_rate\n",
    "    for i in range(iterations):\n",
    "        \n",
    "        #learning rate \n",
    "        eta = eta * (1.0/(1+decay_rate*i))\n",
    "        error = y -  predict(X,w,b) #y_act - y_actual\n",
    "        \n",
    "        #partial differentiation w.r.t w\n",
    "        w_grad = (-2.0/n)*(X.T.dot(error))\n",
    "        \n",
    "        #partial differentiation w.r.t b\n",
    "        b_grad = (-2.0/n)*(np.sum(error))\n",
    "        \n",
    "        #MSE\n",
    "        cost = (1.0/n)*np.sum(np.power(error,2))\n",
    "        \n",
    "        #updating weight vector\n",
    "        w = w - (eta*w_grad)\n",
    "        \n",
    "        #updating y-intercept\n",
    "        b = b - (eta*b_grad)\n",
    "        \n",
    "        costs.append(cost)\n",
    "        \n",
    "        #Stopping Criteria\n",
    "        if i==0:\n",
    "            w_prev = w;\n",
    "        else:\n",
    "            dist = (np.linalg.norm(w-w_prev))\n",
    "            w_prev = w\n",
    "            \n",
    "            #Terminates the loop when difference between w and w_prev is very less \n",
    "            if(round(dist,6)<epsilon_val):\n",
    "                print(\"no.of iterations: \",i,\"Cost: \",min(costs))\n",
    "                break;\n",
    "        \n",
    "    \n",
    "    return w,b,cost;\n",
    "\n",
    "\n",
    "\n",
    "def predict(x,m,c):\n",
    "    \"\"\"\n",
    "        It predicts the target value based on the input parameter values\n",
    "        \n",
    "        Parameters\n",
    "        ----------\n",
    "        x : numpy array or sparse matrix of shape [n_samples,n_features]\n",
    "            Training data\n",
    "        \n",
    "        \n",
    "    \"\"\"\n",
    "    y = np.dot(x,m) + c\n",
    "    return y\n",
    "\n",
    "\n",
    "def score(X,y,m,c):\n",
    "    \n",
    "    \"\"\"\n",
    "    It gives the Score or accuracy\n",
    "    \n",
    "    Parameters\n",
    "        ----------\n",
    "        X : numpy array or sparse matrix of shape [n_samples,n_features]\n",
    "            Training data\n",
    "            \n",
    "        y : numpy array of shape [n_samples, n_targets]\n",
    "            Target values\n",
    "            \n",
    "        m : slope\n",
    "        \n",
    "        c : y-intercept  \n",
    "    \"\"\"\n",
    "    \n",
    "    from sklearn.metrics import r2_score\n",
    "    return r2_score(y,predict(X,m,c).flatten())"
   ]
  },
  {
   "cell_type": "code",
   "execution_count": 85,
   "metadata": {},
   "outputs": [
    {
     "name": "stdout",
     "output_type": "stream",
     "text": [
      "no.of iterations:  137 Cost:  22.794942958\n"
     ]
    }
   ],
   "source": [
    "w,b,cost = linearRegressionGD(x_train,y_train)"
   ]
  },
  {
   "cell_type": "code",
   "execution_count": 86,
   "metadata": {},
   "outputs": [
    {
     "data": {
      "text/plain": [
       "array([-0.77594083,  0.7439884 , -0.37783831,  1.1299663 , -1.91744664,\n",
       "        2.03111839,  0.15248739, -2.86181199,  1.98307055, -0.81417667,\n",
       "       -1.96324858,  0.72616779, -4.15149665])"
      ]
     },
     "execution_count": 86,
     "metadata": {},
     "output_type": "execute_result"
    }
   ],
   "source": [
    "w"
   ]
  },
  {
   "cell_type": "code",
   "execution_count": 87,
   "metadata": {},
   "outputs": [
    {
     "data": {
      "text/plain": [
       "22.12005899423675"
      ]
     },
     "execution_count": 87,
     "metadata": {},
     "output_type": "execute_result"
    }
   ],
   "source": [
    "b"
   ]
  },
  {
   "cell_type": "code",
   "execution_count": 88,
   "metadata": {},
   "outputs": [
    {
     "data": {
      "text/plain": [
       "22.794942957960284"
      ]
     },
     "execution_count": 88,
     "metadata": {},
     "output_type": "execute_result"
    }
   ],
   "source": [
    "cost"
   ]
  },
  {
   "cell_type": "code",
   "execution_count": 89,
   "metadata": {},
   "outputs": [
    {
     "data": {
      "text/plain": [
       "array([ 17.7471629])"
      ]
     },
     "execution_count": 89,
     "metadata": {},
     "output_type": "execute_result"
    }
   ],
   "source": [
    "pred_val = predict(x_test[2:3],w,b)\n",
    "pred_val"
   ]
  },
  {
   "cell_type": "code",
   "execution_count": 90,
   "metadata": {},
   "outputs": [
    {
     "data": {
      "text/plain": [
       "0.75370973524521334"
      ]
     },
     "execution_count": 90,
     "metadata": {},
     "output_type": "execute_result"
    }
   ],
   "source": [
    "score(x_test,y_test,w,b)"
   ]
  },
  {
   "cell_type": "code",
   "execution_count": null,
   "metadata": {},
   "outputs": [],
   "source": []
  },
  {
   "cell_type": "code",
   "execution_count": null,
   "metadata": {},
   "outputs": [],
   "source": []
  }
 ],
 "metadata": {
  "kernelspec": {
   "display_name": "Python 3",
   "language": "python",
   "name": "python3"
  },
  "language_info": {
   "codemirror_mode": {
    "name": "ipython",
    "version": 3
   },
   "file_extension": ".py",
   "mimetype": "text/x-python",
   "name": "python",
   "nbconvert_exporter": "python",
   "pygments_lexer": "ipython3",
   "version": "3.6.4"
  }
 },
 "nbformat": 4,
 "nbformat_minor": 2
}
